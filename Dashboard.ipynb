{
 "cells": [
  {
   "cell_type": "markdown",
   "metadata": {},
   "source": [
    "[DIY Covid-19 Dashboard Kit](https://github.com/fsmeraldi/diy-covid19dash) (C) Fabrizio Smeraldi, 2020 ([f.smeraldi@qmul.ac.uk](mailto:f.smeraldi@qmul.ac.uk) - [web](http://www.eecs.qmul.ac.uk/~fabri/)). All rights reserved."
   ]
  },
  {
   "cell_type": "markdown",
   "metadata": {},
   "source": [
    "# DIY Covid-19 Dashboard"
   ]
  },
  {
   "cell_type": "code",
   "execution_count": 1,
   "metadata": {},
   "outputs": [],
   "source": [
    "# setup\n",
    "import ipywidgets as wdg\n",
    "import pandas as pd\n",
    "import numpy as np\n",
    "import matplotlib.pyplot as plt\n",
    "import json\n",
    "from uk_covid19 import Cov19API\n",
    "\n",
    "%matplotlib inline\n",
    "# make figures larger\n",
    "plt.rcParams['figure.dpi'] = 100\n"
   ]
  },
  {
   "cell_type": "code",
   "execution_count": 2,
   "metadata": {},
   "outputs": [],
   "source": [
    "\n",
    "# data wrangling functions\n",
    "\n",
    "def parse_date(datestring):\n",
    "    \"\"\" Convert a date string into a pandas datetime object \"\"\"\n",
    "    return pd.to_datetime(datestring, format=\"%Y-%m-%d\")\n",
    "\n",
    "\n",
    "def wrangle_data(data):\n",
    "    \"\"\" Parameters: rawdata - data from json file or API call. Returns a dataframe.\n",
    "    Edit to include the code that wrangles the data, creates the dataframe and fills it in. \"\"\"\n",
    "\n",
    "    datalist=data['data']\n",
    "\n",
    "    dates=[dictionary['date'] for dictionary in datalist ]\n",
    "    dates.sort()\n",
    "\n",
    "    startdate=parse_date(dates[0])\n",
    "    enddate=parse_date(dates[-1])\n",
    "\n",
    "    index=pd.date_range(startdate, enddate, freq='D')\n",
    "    timeseriesdf=pd.DataFrame(index=index, columns=['hospital', 'deaths'])\n",
    "\n",
    "    for entry in datalist: # each entry is a dictionary with date, hospital and deaths\n",
    "        date=parse_date(entry['date'])\n",
    "        for column in ['hospital', 'deaths']:\n",
    "            # check that nothing is there yet - just in case some dates are duplicated,\n",
    "            # maybe with data for different columns in each entry\n",
    "            if pd.isna(timeseriesdf.loc[date, column]): \n",
    "                # replace None with 0 in our data \n",
    "                value= float(entry[column]) if entry[column]!=None else 0.0\n",
    "                # this is the way you access a specific location in the dataframe - use .loc\n",
    "                # and put index,column in a single set of [ ]\n",
    "                timeseriesdf.loc[date, column]=value\n",
    "                \n",
    "    # fill in any remaining \"holes\" due to missing dates\n",
    "    timeseriesdf.fillna(0.0, inplace=True)\n",
    "\n",
    "\n",
    "    return timeseriesdf\n"
   ]
  },
  {
   "cell_type": "code",
   "execution_count": 3,
   "metadata": {},
   "outputs": [],
   "source": [
    "# get saved data and wrangle it\n",
    "with open(\"timeseries.json\", \"rt\") as INFILE:\n",
    "    data=json.load(INFILE)\n",
    "\n",
    "timeseriesdf = wrangle_data(data)\n",
    "\n",
    "# pandas makes saving to a pickle file dead easy:\n",
    "timeseriesdf.to_pickle(\"timeseriesdf.pkl\")\n",
    "timeseriesdf=pd.read_pickle(\"timeseriesdf.pkl\")"
   ]
  },
  {
   "cell_type": "code",
   "execution_count": 4,
   "metadata": {},
   "outputs": [
    {
     "output_type": "display_data",
     "data": {
      "text/plain": "HBox(children=(SelectMultiple(description='Stats:', index=(0, 1), options=('hospital', 'deaths'), rows=3, valu…",
      "application/vnd.jupyter.widget-view+json": {
       "version_major": 2,
       "version_minor": 0,
       "model_id": "d1345c6aec49482298150cf38e5a89ee"
      }
     },
     "metadata": {}
    },
    {
     "output_type": "display_data",
     "data": {
      "text/plain": "Output()",
      "application/vnd.jupyter.widget-view+json": {
       "version_major": 2,
       "version_minor": 0,
       "model_id": "3df51423eea44dae858305fe08c0f0e6"
      }
     },
     "metadata": {}
    }
   ],
   "source": [
    "series=wdg.SelectMultiple(\n",
    "    options=['hospital', 'deaths'],\n",
    "    value=['hospital', 'deaths'],\n",
    "    rows=3,\n",
    "    description='Stats:',\n",
    "    disabled=False\n",
    ")\n",
    "\n",
    "# try replacing HBox with a VBox\n",
    "controls=wdg.HBox([series])\n",
    "\n",
    "def timeseries_graph(gcols):\n",
    "    ncols=len(gcols)\n",
    "    if ncols>0:\n",
    "        timeseriesdf[list(gcols)].plot()\n",
    "    else:\n",
    "        print(\"Click to select data for graph\")\n",
    "        print(\"(CTRL-Click to select more than one category)\")\n",
    "\n",
    "# keep calling timeseries_graph(gcols=value_of_series, gscale=value_of_scale); capture output in variable graph   \n",
    "graph=wdg.interactive_output(timeseries_graph, {'gcols': series})\n",
    "\n",
    "display(controls, graph)"
   ]
  },
  {
   "cell_type": "code",
   "execution_count": 5,
   "metadata": {},
   "outputs": [
    {
     "output_type": "display_data",
     "data": {
      "text/plain": "Button(button_style='info', description='Get Data', icon='download', style=ButtonStyle(), tooltip='This will g…",
      "application/vnd.jupyter.widget-view+json": {
       "version_major": 2,
       "version_minor": 0,
       "model_id": "bee4aecc782c46dc9c0fdafc91ccbe5c"
      }
     },
     "metadata": {}
    }
   ],
   "source": [
    "# Place your API access code in this function. Do not call this function directly; it will be called by \n",
    "# the button callback. \n",
    "\n",
    "def access_api():\n",
    "    \"\"\" Accesses the PHE API. Returns raw data in the same format as data loaded from the \"canned\" JSON file. \"\"\"\n",
    "\n",
    "    print(\"Getting data...\")\n",
    "\n",
    "    filters = [\n",
    "        'areaType=overview', # note each metric-value pair is inside one string\n",
    "    ]\n",
    "\n",
    "\n",
    "    # values here are the names of the PHE metrics\n",
    "    structure = {\n",
    "        \"date\": \"date\",\n",
    "        \"hospital\": \"newAdmissions\",\n",
    "        \"deaths\": \"cumDeaths28DaysByDeathDateRate\"    \n",
    "    }\n",
    "\n",
    "\n",
    "    api = Cov19API(filters=filters, structure=structure)\n",
    "\n",
    "    timeseries=api.get_json()\n",
    "    print(\"... data retrieved\")\n",
    "    return timeseries # return data read from the API\n",
    "\n",
    "    # Printout from this function will be lost in Voila unless captured in an\n",
    "# output widget - therefore, we give feedback to the user by changing the \n",
    "# appearance of the button\n",
    "def api_button_callback(button):\n",
    "    \"\"\" Button callback - it must take the button as its parameter (unused in this case).\n",
    "    Accesses API, wrangles data, updates global variable df used for plotting. \"\"\"\n",
    "    # Get fresh data from the API. If you have time, include some error handling\n",
    "    # around this call.\n",
    "    apidata=access_api()\n",
    "    # wrangle the data and overwrite the dataframe for plotting\n",
    "    global df\n",
    "    df=wrangle_data(apidata)\n",
    "    # the graph won't refresh until the user interacts with the widget.\n",
    "    # this function simulates the interaction, see Graph and Analysis below.\n",
    "    # you can omit this step in the first instance\n",
    "    refresh_graph()\n",
    "    # after all is done, you can switch the icon on the button to a \"check\" sign\n",
    "    # and optionally disable the button - it won't be needed again. You can use icons\n",
    "    # \"unlink\" or \"times\" and change the button text to \"Unavailable\" in case the \n",
    "    # api call fails.\n",
    "    apibutton.icon=\"check\"\n",
    "    # apibutton.disabled=True\n",
    "\n",
    "    \n",
    "apibutton=wdg.Button(\n",
    "    description='Get Data', # you may want to change this...\n",
    "    disabled=False,\n",
    "    button_style='Info', # 'success', 'info', 'warning', 'danger' or ''\n",
    "    tooltip=\"This will get the latest data for you\",\n",
    "    # FontAwesome names without the `fa-` prefix - try \"download\"\n",
    "    icon='download'\n",
    ")\n",
    "\n",
    "# remember to register your button callback function with the button\n",
    "apibutton.on_click(api_button_callback) # the name of your function inside these brackets\n",
    "\n",
    "display(apibutton)\n",
    "\n",
    "# run all cells before clicking on this button\n",
    "\n",
    "timeseries = access_api()\n",
    "\n",
    "with open(\"timeseries.json\", \"wt\") as OUTF:\n",
    "    json.dump(timeseries, OUTF)"
   ]
  },
  {
   "cell_type": "markdown",
   "metadata": {},
   "source": [
    "**Author and Copyright Notice** *This dashboard was made by [Naomi Christie](https://github.com/nchristie) Based on UK Government [data](https://coronavirus.data.gov.uk/) published by [Public Health England](https://www.gov.uk/government/organisations/public-health-england).*"
   ]
  }
 ],
 "metadata": {
  "kernelspec": {
   "name": "python3",
   "display_name": "Python 3.8.2 64-bit",
   "metadata": {
    "interpreter": {
     "hash": "082e9a3bcad0a290d0001e938aa60b99250c6c2ef33a923c00b70f9826caf4b7"
    }
   }
  },
  "language_info": {
   "codemirror_mode": {
    "name": "ipython",
    "version": 3
   },
   "file_extension": ".py",
   "mimetype": "text/x-python",
   "name": "python",
   "nbconvert_exporter": "python",
   "pygments_lexer": "ipython3",
   "version": "3.8.2-final"
  }
 },
 "nbformat": 4,
 "nbformat_minor": 4
}